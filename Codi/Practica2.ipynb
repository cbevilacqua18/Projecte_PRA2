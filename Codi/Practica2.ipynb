{
 "cells": [
  {
   "cell_type": "markdown",
   "metadata": {
    "id": "YJsE7xXUjgdt"
   },
   "source": [
    "# **Pràctica 2**\n",
    "\n",
    "Christian Bevilacqua i Aregall"
   ]
  },
  {
   "cell_type": "markdown",
   "metadata": {
    "id": "Hpb1hDWhDcPj"
   },
   "source": [
    "# 1. Descripció del dataset\n",
    "\n",
    "El dataset amb el que treballem conté informació sobre les 50 publicacions més populars del subreddit r/popular, extretes mitjançant Web Scraping a través de la pràctica anterior (Pràctica 1). Aquest dataset és rellevant perquè reflecteix els interessos i les interaccions de la comunitat de Reddit en temps real. Hi ha diverses preguntes que es podrien respondre a partir de l’anàlisi d’aquestes dades, com ara són les següents:\n",
    "\n",
    "\n",
    "\n",
    "1.   Quins subreddits tenen més representació entre els posts més populars?\n",
    "2.   Quina relació hi ha entre un post i el seu nombre de vots?\n",
    "1.   Quins temes atrauen més interacció en un moment temporal determinat?\n",
    "\n",
    "**Les variables que conté el data set, a mode de resum, són les següents:**\n",
    "\n",
    "*  **Posició:** Posició del post en el rànquing (1-50)\n",
    "*  **Títol:**El títol del post\n",
    "*  **Subreddit:** Subreddit d'origen de la publicació\n",
    "*  **Autor:** Nom d'usuari de l'autor del post.\n",
    "*  **Vots:** Nombre de vots que ha rebut el post.\n",
    "*  **Enllaç\\r:** URL directa a la publicació.\n",
    "\n",
    "En quant al tamany, comentar que el dataset conté 29 observacions (1 per cada publicació popular i no hi arriben a 50 ja que en aquella data no hi havia tantes publicacions, encara que en el codi es pot veure que el limit està establit en 50) i un total de 6 variables cada observació.\n",
    "\n"
   ]
  },
  {
   "cell_type": "code",
   "execution_count": null,
   "metadata": {
    "colab": {
     "base_uri": "https://localhost:8080/"
    },
    "executionInfo": {
     "elapsed": 19240,
     "status": "ok",
     "timestamp": 1747861512290,
     "user": {
      "displayName": "Christian Bevilacqua",
      "userId": "08298056689231078299"
     },
     "user_tz": -120
    },
    "id": "CR5b-XoC8l0k",
    "outputId": "e4903f76-a20b-45eb-fc48-4170d25581fb"
   },
   "outputs": [
    {
     "name": "stdout",
     "output_type": "stream",
     "text": [
      "Mounted at /content/drive\n"
     ]
    }
   ],
   "source": [
    "from google.colab import drive\n",
    "drive.mount('/content/drive')"
   ]
  },
  {
   "cell_type": "code",
   "execution_count": null,
   "metadata": {
    "colab": {
     "base_uri": "https://localhost:8080/"
    },
    "executionInfo": {
     "elapsed": 321,
     "status": "ok",
     "timestamp": 1747861513838,
     "user": {
      "displayName": "Christian Bevilacqua",
      "userId": "08298056689231078299"
     },
     "user_tz": -120
    },
    "id": "WwTjO4De-uzn",
    "outputId": "f2455791-5c05-4dfe-8317-8ae1daed0d07"
   },
   "outputs": [
    {
     "name": "stdout",
     "output_type": "stream",
     "text": [
      "/content/drive/My Drive/Colab Notebooks\n"
     ]
    }
   ],
   "source": [
    "%cd /content/drive/My Drive/Colab Notebooks/"
   ]
  },
  {
   "cell_type": "code",
   "execution_count": null,
   "metadata": {
    "id": "AGgl4YXJ_6El"
   },
   "outputs": [],
   "source": [
    "import pandas as pd\n",
    "df = pd.read_csv(\"reddit_trending_2025-04-08.csv\", sep=';', lineterminator='\\n')"
   ]
  },
  {
   "cell_type": "code",
   "execution_count": null,
   "metadata": {
    "colab": {
     "base_uri": "https://localhost:8080/",
     "height": 206
    },
    "executionInfo": {
     "elapsed": 60,
     "status": "ok",
     "timestamp": 1747861518098,
     "user": {
      "displayName": "Christian Bevilacqua",
      "userId": "08298056689231078299"
     },
     "user_tz": -120
    },
    "id": "ew-igdQeAWAU",
    "outputId": "2e1d265d-3949-4416-90bd-e33f0bd13c9e"
   },
   "outputs": [
    {
     "data": {
      "application/vnd.google.colaboratory.intrinsic+json": {
       "summary": "{\n  \"name\": \"df\",\n  \"rows\": 28,\n  \"fields\": [\n    {\n      \"column\": \"Posici\\u00f3\",\n      \"properties\": {\n        \"dtype\": \"number\",\n        \"std\": 8,\n        \"min\": 1,\n        \"max\": 28,\n        \"num_unique_values\": 28,\n        \"samples\": [\n          10,\n          26,\n          9\n        ],\n        \"semantic_type\": \"\",\n        \"description\": \"\"\n      }\n    },\n    {\n      \"column\": \"T\\u00edtol\",\n      \"properties\": {\n        \"dtype\": \"string\",\n        \"num_unique_values\": 28,\n        \"samples\": [\n          \"Humbling reminder sign posted on a cemetery gate\",\n          \"Investors: keep track of how your investments are performing with Sharesight portfolio tracker. Make it easier to see the true performance of your stocks, ETFs, dividends, trades & more that your broker doesn't show. Start your free trial of Sharesight today \\ud83d\\udcc8\",\n          \"Unpopular opinion: I miss when games let you be a little lost.\"\n        ],\n        \"semantic_type\": \"\",\n        \"description\": \"\"\n      }\n    },\n    {\n      \"column\": \"Subreddit\",\n      \"properties\": {\n        \"dtype\": \"string\",\n        \"num_unique_values\": 27,\n        \"samples\": [\n          \"gaming\",\n          \"u_relaiapp\",\n          \"Damnthatsinteresting\"\n        ],\n        \"semantic_type\": \"\",\n        \"description\": \"\"\n      }\n    },\n    {\n      \"column\": \"Autor\",\n      \"properties\": {\n        \"dtype\": \"string\",\n        \"num_unique_values\": 26,\n        \"samples\": [\n          \"Insightful23blue\",\n          \"ProperMod\",\n          \"RoyalChris\"\n        ],\n        \"semantic_type\": \"\",\n        \"description\": \"\"\n      }\n    },\n    {\n      \"column\": \"Vots\",\n      \"properties\": {\n        \"dtype\": \"number\",\n        \"std\": 16076,\n        \"min\": 0,\n        \"max\": 52115,\n        \"num_unique_values\": 28,\n        \"samples\": [\n          7656,\n          2,\n          21309\n        ],\n        \"semantic_type\": \"\",\n        \"description\": \"\"\n      }\n    },\n    {\n      \"column\": \"Enlla\\u00e7\\r\",\n      \"properties\": {\n        \"dtype\": \"string\",\n        \"num_unique_values\": 28,\n        \"samples\": [\n          \"https://i.redd.it/sfcaov7aljte1.jpeg\\r\",\n          \"https://alb.reddit.com/cr?za=HTexS6sad7ndJkvuUDAf8_CU4q4L0KQi4Xljatp5T9YFLc9ZMka81ia0YGnuyWJb4k-i8xFYDOl8feuUU7zaUARQ_qU7ONFvNFLAeywk_ODqY8bOLcLE9htghoMJ3cznzytQK66LkWOe-4_snlPkZ80lKLY4KxyCNAEjfmqei4hj2WnzgPN_ltMZtFhaH-WRDqyC1qZQHf8cf4fdqe7Y2XREoQkIJEUSfvZCfT4SXn8d4I8zeccnb4Hwg96atkXSF5ezFF4yPgiSjoUPIUNAHVaMKaNh5bOXYLitA-uZEXN77j9frvBS_MaSCr2AZIdTLozTkKXeKlh2p7ToF_kdSTXFG7vDA7JB9CcSsvew0OCLLHQNJPqILLenqJ_fsd9ff13-hxS-Diy80MeWlzz5XXCOMQIAIxEonlmh75Ye-89QfLzbhludL87uKghdrL6t1C83eHVEYpQ_Sl_HTYbbraDrDo9mkDjo87rQMctmZMBO5V-7qG2uNdeQEF9Ahe00B3IKFLAuMOx8LPPPjbBJjLyKRH-oPWzFFp52ttJ6kv8ne1RPGSwh3R-slJwlVfgEMQbY&zp=tB_Sf4HD_8jwiT9R7XbNGly0WOFnFE71JrbZIDnIC-z6t2vuogBb2ZgveVFPm3HZ6WvnlhaXmvaoL1cJbAE1JowG_nS3Glo0aMWQruygSYHkcoBzwwoTx8MRQSYdhOa3a9eEhnmGv7LYPWK3pLzbPAThoVHs9u7sIFjPlaiyMiNuMExIgT1wt-Rsikb5bEaoQ9AFhkIh7VRuCiIFXSq_pROtE_HrM5jew4pdiEfTOKi5-SPj0DztN87UYEQlvlw0deP2gCaTVxOfo-iiZN0dZWgftZ_mdjb7myENwPImOG0QoTqvvFtxqUua6wdiOfGp01TgXSuBDnvU0PLUtTITOBZ17wE9VRAW5gMV_757\\r\",\n          \"https://www.reddit.com/r/gaming/comments/1jtlku6/unpopular_opinion_i_miss_when_games_let_you_be_a/\\r\"\n        ],\n        \"semantic_type\": \"\",\n        \"description\": \"\"\n      }\n    }\n  ]\n}",
       "type": "dataframe",
       "variable_name": "df"
      },
      "text/html": [
       "\n",
       "  <div id=\"df-eb2bbd05-1bcc-4d08-9f54-224ccf506d80\" class=\"colab-df-container\">\n",
       "    <div>\n",
       "<style scoped>\n",
       "    .dataframe tbody tr th:only-of-type {\n",
       "        vertical-align: middle;\n",
       "    }\n",
       "\n",
       "    .dataframe tbody tr th {\n",
       "        vertical-align: top;\n",
       "    }\n",
       "\n",
       "    .dataframe thead th {\n",
       "        text-align: right;\n",
       "    }\n",
       "</style>\n",
       "<table border=\"1\" class=\"dataframe\">\n",
       "  <thead>\n",
       "    <tr style=\"text-align: right;\">\n",
       "      <th></th>\n",
       "      <th>Posició</th>\n",
       "      <th>Títol</th>\n",
       "      <th>Subreddit</th>\n",
       "      <th>Autor</th>\n",
       "      <th>Vots</th>\n",
       "      <th>Enllaç\\r</th>\n",
       "    </tr>\n",
       "  </thead>\n",
       "  <tbody>\n",
       "    <tr>\n",
       "      <th>0</th>\n",
       "      <td>1</td>\n",
       "      <td>Trump to impose 50% additional tariffs on Chin...</td>\n",
       "      <td>StockMarket</td>\n",
       "      <td>RoyalChris</td>\n",
       "      <td>23903</td>\n",
       "      <td>https://i.redd.it/78sqwqccjfte1.png\\r</td>\n",
       "    </tr>\n",
       "    <tr>\n",
       "      <th>1</th>\n",
       "      <td>2</td>\n",
       "      <td>Wingo Internet Deal! 🚀 Surfen mit bis zu 1 Gbi...</td>\n",
       "      <td>u_wingo-ch</td>\n",
       "      <td>wingo-ch</td>\n",
       "      <td>0</td>\n",
       "      <td>https://alb.reddit.com/cr?za=UksJga7zW0BnRrDD9...</td>\n",
       "    </tr>\n",
       "    <tr>\n",
       "      <th>2</th>\n",
       "      <td>3</td>\n",
       "      <td>Shot of a lifetime, captured from a car window</td>\n",
       "      <td>nextfuckinglevel</td>\n",
       "      <td>solateor</td>\n",
       "      <td>49826</td>\n",
       "      <td>https://v.redd.it/hm34sgm2zite1\\r</td>\n",
       "    </tr>\n",
       "    <tr>\n",
       "      <th>3</th>\n",
       "      <td>4</td>\n",
       "      <td>Elon Musk gets trolled while attempting to liv...</td>\n",
       "      <td>Fauxmoi</td>\n",
       "      <td>bipartisanic</td>\n",
       "      <td>45033</td>\n",
       "      <td>https://v.redd.it/oauuwxojgite1\\r</td>\n",
       "    </tr>\n",
       "    <tr>\n",
       "      <th>4</th>\n",
       "      <td>5</td>\n",
       "      <td>Trump Orders Four Mile Military Parade for his...</td>\n",
       "      <td>politics</td>\n",
       "      <td>Ok-Direction-4480</td>\n",
       "      <td>33447</td>\n",
       "      <td>https://www.thedailybeast.com/trump-orders-fou...</td>\n",
       "    </tr>\n",
       "  </tbody>\n",
       "</table>\n",
       "</div>\n",
       "    <div class=\"colab-df-buttons\">\n",
       "\n",
       "  <div class=\"colab-df-container\">\n",
       "    <button class=\"colab-df-convert\" onclick=\"convertToInteractive('df-eb2bbd05-1bcc-4d08-9f54-224ccf506d80')\"\n",
       "            title=\"Convert this dataframe to an interactive table.\"\n",
       "            style=\"display:none;\">\n",
       "\n",
       "  <svg xmlns=\"http://www.w3.org/2000/svg\" height=\"24px\" viewBox=\"0 -960 960 960\">\n",
       "    <path d=\"M120-120v-720h720v720H120Zm60-500h600v-160H180v160Zm220 220h160v-160H400v160Zm0 220h160v-160H400v160ZM180-400h160v-160H180v160Zm440 0h160v-160H620v160ZM180-180h160v-160H180v160Zm440 0h160v-160H620v160Z\"/>\n",
       "  </svg>\n",
       "    </button>\n",
       "\n",
       "  <style>\n",
       "    .colab-df-container {\n",
       "      display:flex;\n",
       "      gap: 12px;\n",
       "    }\n",
       "\n",
       "    .colab-df-convert {\n",
       "      background-color: #E8F0FE;\n",
       "      border: none;\n",
       "      border-radius: 50%;\n",
       "      cursor: pointer;\n",
       "      display: none;\n",
       "      fill: #1967D2;\n",
       "      height: 32px;\n",
       "      padding: 0 0 0 0;\n",
       "      width: 32px;\n",
       "    }\n",
       "\n",
       "    .colab-df-convert:hover {\n",
       "      background-color: #E2EBFA;\n",
       "      box-shadow: 0px 1px 2px rgba(60, 64, 67, 0.3), 0px 1px 3px 1px rgba(60, 64, 67, 0.15);\n",
       "      fill: #174EA6;\n",
       "    }\n",
       "\n",
       "    .colab-df-buttons div {\n",
       "      margin-bottom: 4px;\n",
       "    }\n",
       "\n",
       "    [theme=dark] .colab-df-convert {\n",
       "      background-color: #3B4455;\n",
       "      fill: #D2E3FC;\n",
       "    }\n",
       "\n",
       "    [theme=dark] .colab-df-convert:hover {\n",
       "      background-color: #434B5C;\n",
       "      box-shadow: 0px 1px 3px 1px rgba(0, 0, 0, 0.15);\n",
       "      filter: drop-shadow(0px 1px 2px rgba(0, 0, 0, 0.3));\n",
       "      fill: #FFFFFF;\n",
       "    }\n",
       "  </style>\n",
       "\n",
       "    <script>\n",
       "      const buttonEl =\n",
       "        document.querySelector('#df-eb2bbd05-1bcc-4d08-9f54-224ccf506d80 button.colab-df-convert');\n",
       "      buttonEl.style.display =\n",
       "        google.colab.kernel.accessAllowed ? 'block' : 'none';\n",
       "\n",
       "      async function convertToInteractive(key) {\n",
       "        const element = document.querySelector('#df-eb2bbd05-1bcc-4d08-9f54-224ccf506d80');\n",
       "        const dataTable =\n",
       "          await google.colab.kernel.invokeFunction('convertToInteractive',\n",
       "                                                    [key], {});\n",
       "        if (!dataTable) return;\n",
       "\n",
       "        const docLinkHtml = 'Like what you see? Visit the ' +\n",
       "          '<a target=\"_blank\" href=https://colab.research.google.com/notebooks/data_table.ipynb>data table notebook</a>'\n",
       "          + ' to learn more about interactive tables.';\n",
       "        element.innerHTML = '';\n",
       "        dataTable['output_type'] = 'display_data';\n",
       "        await google.colab.output.renderOutput(dataTable, element);\n",
       "        const docLink = document.createElement('div');\n",
       "        docLink.innerHTML = docLinkHtml;\n",
       "        element.appendChild(docLink);\n",
       "      }\n",
       "    </script>\n",
       "  </div>\n",
       "\n",
       "\n",
       "    <div id=\"df-8b2e368b-1eb0-4915-9c71-121eac0b20f5\">\n",
       "      <button class=\"colab-df-quickchart\" onclick=\"quickchart('df-8b2e368b-1eb0-4915-9c71-121eac0b20f5')\"\n",
       "                title=\"Suggest charts\"\n",
       "                style=\"display:none;\">\n",
       "\n",
       "<svg xmlns=\"http://www.w3.org/2000/svg\" height=\"24px\"viewBox=\"0 0 24 24\"\n",
       "     width=\"24px\">\n",
       "    <g>\n",
       "        <path d=\"M19 3H5c-1.1 0-2 .9-2 2v14c0 1.1.9 2 2 2h14c1.1 0 2-.9 2-2V5c0-1.1-.9-2-2-2zM9 17H7v-7h2v7zm4 0h-2V7h2v10zm4 0h-2v-4h2v4z\"/>\n",
       "    </g>\n",
       "</svg>\n",
       "      </button>\n",
       "\n",
       "<style>\n",
       "  .colab-df-quickchart {\n",
       "      --bg-color: #E8F0FE;\n",
       "      --fill-color: #1967D2;\n",
       "      --hover-bg-color: #E2EBFA;\n",
       "      --hover-fill-color: #174EA6;\n",
       "      --disabled-fill-color: #AAA;\n",
       "      --disabled-bg-color: #DDD;\n",
       "  }\n",
       "\n",
       "  [theme=dark] .colab-df-quickchart {\n",
       "      --bg-color: #3B4455;\n",
       "      --fill-color: #D2E3FC;\n",
       "      --hover-bg-color: #434B5C;\n",
       "      --hover-fill-color: #FFFFFF;\n",
       "      --disabled-bg-color: #3B4455;\n",
       "      --disabled-fill-color: #666;\n",
       "  }\n",
       "\n",
       "  .colab-df-quickchart {\n",
       "    background-color: var(--bg-color);\n",
       "    border: none;\n",
       "    border-radius: 50%;\n",
       "    cursor: pointer;\n",
       "    display: none;\n",
       "    fill: var(--fill-color);\n",
       "    height: 32px;\n",
       "    padding: 0;\n",
       "    width: 32px;\n",
       "  }\n",
       "\n",
       "  .colab-df-quickchart:hover {\n",
       "    background-color: var(--hover-bg-color);\n",
       "    box-shadow: 0 1px 2px rgba(60, 64, 67, 0.3), 0 1px 3px 1px rgba(60, 64, 67, 0.15);\n",
       "    fill: var(--button-hover-fill-color);\n",
       "  }\n",
       "\n",
       "  .colab-df-quickchart-complete:disabled,\n",
       "  .colab-df-quickchart-complete:disabled:hover {\n",
       "    background-color: var(--disabled-bg-color);\n",
       "    fill: var(--disabled-fill-color);\n",
       "    box-shadow: none;\n",
       "  }\n",
       "\n",
       "  .colab-df-spinner {\n",
       "    border: 2px solid var(--fill-color);\n",
       "    border-color: transparent;\n",
       "    border-bottom-color: var(--fill-color);\n",
       "    animation:\n",
       "      spin 1s steps(1) infinite;\n",
       "  }\n",
       "\n",
       "  @keyframes spin {\n",
       "    0% {\n",
       "      border-color: transparent;\n",
       "      border-bottom-color: var(--fill-color);\n",
       "      border-left-color: var(--fill-color);\n",
       "    }\n",
       "    20% {\n",
       "      border-color: transparent;\n",
       "      border-left-color: var(--fill-color);\n",
       "      border-top-color: var(--fill-color);\n",
       "    }\n",
       "    30% {\n",
       "      border-color: transparent;\n",
       "      border-left-color: var(--fill-color);\n",
       "      border-top-color: var(--fill-color);\n",
       "      border-right-color: var(--fill-color);\n",
       "    }\n",
       "    40% {\n",
       "      border-color: transparent;\n",
       "      border-right-color: var(--fill-color);\n",
       "      border-top-color: var(--fill-color);\n",
       "    }\n",
       "    60% {\n",
       "      border-color: transparent;\n",
       "      border-right-color: var(--fill-color);\n",
       "    }\n",
       "    80% {\n",
       "      border-color: transparent;\n",
       "      border-right-color: var(--fill-color);\n",
       "      border-bottom-color: var(--fill-color);\n",
       "    }\n",
       "    90% {\n",
       "      border-color: transparent;\n",
       "      border-bottom-color: var(--fill-color);\n",
       "    }\n",
       "  }\n",
       "</style>\n",
       "\n",
       "      <script>\n",
       "        async function quickchart(key) {\n",
       "          const quickchartButtonEl =\n",
       "            document.querySelector('#' + key + ' button');\n",
       "          quickchartButtonEl.disabled = true;  // To prevent multiple clicks.\n",
       "          quickchartButtonEl.classList.add('colab-df-spinner');\n",
       "          try {\n",
       "            const charts = await google.colab.kernel.invokeFunction(\n",
       "                'suggestCharts', [key], {});\n",
       "          } catch (error) {\n",
       "            console.error('Error during call to suggestCharts:', error);\n",
       "          }\n",
       "          quickchartButtonEl.classList.remove('colab-df-spinner');\n",
       "          quickchartButtonEl.classList.add('colab-df-quickchart-complete');\n",
       "        }\n",
       "        (() => {\n",
       "          let quickchartButtonEl =\n",
       "            document.querySelector('#df-8b2e368b-1eb0-4915-9c71-121eac0b20f5 button');\n",
       "          quickchartButtonEl.style.display =\n",
       "            google.colab.kernel.accessAllowed ? 'block' : 'none';\n",
       "        })();\n",
       "      </script>\n",
       "    </div>\n",
       "\n",
       "    </div>\n",
       "  </div>\n"
      ],
      "text/plain": [
       "   Posició                                              Títol  \\\n",
       "0        1  Trump to impose 50% additional tariffs on Chin...   \n",
       "1        2  Wingo Internet Deal! 🚀 Surfen mit bis zu 1 Gbi...   \n",
       "2        3     Shot of a lifetime, captured from a car window   \n",
       "3        4  Elon Musk gets trolled while attempting to liv...   \n",
       "4        5  Trump Orders Four Mile Military Parade for his...   \n",
       "\n",
       "          Subreddit              Autor   Vots  \\\n",
       "0       StockMarket         RoyalChris  23903   \n",
       "1        u_wingo-ch           wingo-ch      0   \n",
       "2  nextfuckinglevel           solateor  49826   \n",
       "3           Fauxmoi       bipartisanic  45033   \n",
       "4          politics  Ok-Direction-4480  33447   \n",
       "\n",
       "                                            Enllaç\\r  \n",
       "0              https://i.redd.it/78sqwqccjfte1.png\\r  \n",
       "1  https://alb.reddit.com/cr?za=UksJga7zW0BnRrDD9...  \n",
       "2                  https://v.redd.it/hm34sgm2zite1\\r  \n",
       "3                  https://v.redd.it/oauuwxojgite1\\r  \n",
       "4  https://www.thedailybeast.com/trump-orders-fou...  "
      ]
     },
     "execution_count": 5,
     "metadata": {},
     "output_type": "execute_result"
    }
   ],
   "source": [
    "df.head()"
   ]
  },
  {
   "cell_type": "markdown",
   "metadata": {
    "id": "fFxZpTTgnj87"
   },
   "source": [
    "# 2. Integració i selecció\n",
    "\n",
    "Com que el dataset ja ha estat extret d’una font agregada (r/popular) i presenta només les 29 publicacions més rellevants, no és necessari integrar altres conjunts de dades. En aquest cas, ens centrarem en una subselecció de variables útils per a una primera anàlisi descriptiva i visual, mantenint les variables amb informació rellevant per a l’estudi de popularitat, les quals seran:\n",
    "\n",
    "*   **Posició:** Ens ajudarà a ordenar els posts i estudiar la seva rellevancia.\n",
    "*   **Subreddit:** Ens facilita agrupar continguts per temàtica.\n",
    "*   **Vots:** Entenem els vots com una mesura vital per a entendre la popularitat.\n",
    "*   **Títol:** Ens podria servir per analitzar paraules clau.\n",
    "\n",
    "Amb la selecció d'aquestes variables, considerem que es poden analitzar diferents temes interessants com ara:\n",
    "\n",
    "1.   Quins subreddits tenen més posts dins del Top 50.\n",
    "2.   Hi ha relació entre la posició del post i el nombre de vots?\n",
    "\n",
    "A continuació, tal i com es demana en l'enunciat, es mostrarà un resum de les dades que permeti veure a simple vista les diferents variables i els seus rangs de valors. A més a més, també es mostraràn un parell d'exemples per a que quedi exemplificat d'una millor forma."
   ]
  },
  {
   "cell_type": "code",
   "execution_count": null,
   "metadata": {
    "colab": {
     "base_uri": "https://localhost:8080/"
    },
    "executionInfo": {
     "elapsed": 27,
     "status": "ok",
     "timestamp": 1747861773110,
     "user": {
      "displayName": "Christian Bevilacqua",
      "userId": "08298056689231078299"
     },
     "user_tz": -120
    },
    "id": "JsYeeJtiAt4y",
    "outputId": "b9e3ca19-a776-4833-991b-fde76eda72c3"
   },
   "outputs": [
    {
     "name": "stdout",
     "output_type": "stream",
     "text": [
      "\n",
      "Estadístiques bàsiques de la variable numèrica (vots):\n",
      "count       28.000000\n",
      "mean     20957.392857\n",
      "std      16076.105071\n",
      "min          0.000000\n",
      "25%       9560.250000\n",
      "50%      18804.000000\n",
      "75%      29127.250000\n",
      "max      52115.000000\n",
      "Name: Vots, dtype: float64\n",
      "\n",
      "Valors únics en columnes categòriques:\n",
      "Subreddits únics: 27\n",
      "Autors únics: 26\n",
      "\n",
      "Mostra de subreddits i autors més comuns:\n",
      "Top 5 subreddits:\n",
      " Subreddit\n",
      "Anticonsumption    2\n",
      "u_wingo-ch         1\n",
      "StockMarket        1\n",
      "Fauxmoi            1\n",
      "politics           1\n",
      "Name: count, dtype: int64\n",
      "\n",
      "Top 5 autors:\n",
      " Autor\n",
      "RoyalChris           3\n",
      "wingo-ch             1\n",
      "solateor             1\n",
      "bipartisanic         1\n",
      "Ok-Direction-4480    1\n",
      "Name: count, dtype: int64\n",
      "\n",
      "Exemple d'enllaços i títols:\n",
      "                                               Títol  \\\n",
      "0  Trump to impose 50% additional tariffs on Chin...   \n",
      "1  Wingo Internet Deal! 🚀 Surfen mit bis zu 1 Gbi...   \n",
      "2     Shot of a lifetime, captured from a car window   \n",
      "\n",
      "                                            Enllaç\\r  \n",
      "0              https://i.redd.it/78sqwqccjfte1.png\\r  \n",
      "1  https://alb.reddit.com/cr?za=UksJga7zW0BnRrDD9...  \n",
      "2                  https://v.redd.it/hm34sgm2zite1\\r  \n"
     ]
    }
   ],
   "source": [
    "print(\"\\nEstadístiques bàsiques de la variable numèrica (vots):\")\n",
    "print(df['Vots'].describe())\n",
    "\n",
    "print(\"\\nValors únics en columnes categòriques:\")\n",
    "print(\"Subreddits únics:\", df['Subreddit'].nunique())\n",
    "print(\"Autors únics:\", df['Autor'].nunique())\n",
    "\n",
    "print(\"\\nMostra de subreddits i autors més comuns:\")\n",
    "print(\"Top 5 subreddits:\\n\", df['Subreddit'].value_counts().head())\n",
    "print(\"\\nTop 5 autors:\\n\", df['Autor'].value_counts().head())\n",
    "\n",
    "print(\"\\nExemple d'enllaços i títols:\")\n",
    "print(df[['Títol', 'Enllaç\\r']].head(3))\n"
   ]
  },
  {
   "cell_type": "markdown",
   "metadata": {
    "id": "y43LheC9rqwT"
   },
   "source": [
    "# 3. Neteja de dades\n",
    "\n",
    "# Exercici 3.1\n",
    "\n",
    "\n",
    "\n"
   ]
  },
  {
   "cell_type": "code",
   "execution_count": null,
   "metadata": {
    "id": "dqGl3szQ_rWq"
   },
   "outputs": [],
   "source": [
    "# Nuls\n",
    "df.isnull().sum()\n",
    "\n",
    "# Buits (cadenes buides)\n",
    "(df == \"\").sum()\n",
    "\n",
    "# Eliminar files amb valors nuls o buits en columnes crítiques\n",
    "df_clean = df.dropna(subset=[\"Títol\", \"Subreddit\", \"Autor\", \"Enllaç\\r\"])\n",
    "df_clean = df_clean[(df_clean[\"Títol\"] != \"\") & (df_clean[\"Subreddit\"] != \"\")]\n",
    "\n",
    "# Opcional: revisar si cal eliminar vots iguals a 0\n",
    "df_clean = df_clean[df_clean[\"Vots\"] > 0]\n"
   ]
  },
  {
   "cell_type": "markdown",
   "metadata": {
    "id": "5WtAPN7jxc6q"
   },
   "source": [
    "# Exercici 3.2\n",
    "\n",
    "Segons la meva opinió, les conversions de tipus de dades que s'haurien de fer són les següents:\n",
    "\n",
    "*   **Posició:** En la meva opinió hauria de pasar a un tipus Int.\n",
    "*   **Vots:** El mateix cas, hauria de ser de tipus Int.\n",
    "*   **Subreddit:** El seu tipus ideal crec que hauria de ser categoric.\n",
    "\n",
    "\n"
   ]
  },
  {
   "cell_type": "code",
   "execution_count": null,
   "metadata": {
    "id": "_LcY68YbBpPY"
   },
   "outputs": [],
   "source": [
    "df_clean[\"Posició\"] = pd.to_numeric(df_clean[\"Posició\"], errors=\"coerce\")\n",
    "df_clean[\"Vots\"] = pd.to_numeric(df_clean[\"Vots\"], errors=\"coerce\")\n",
    "df_clean[\"Subreddit\"] = df_clean[\"Subreddit\"].astype(\"category\")"
   ]
  },
  {
   "cell_type": "markdown",
   "metadata": {
    "id": "pKXC16Pk0nX-"
   },
   "source": [
    "# Exercici 3.3\n",
    "\n",
    "En aquest apartat crearem un boxplot sobre la variable Vots per a veure si hi ha valors extrems i, en el cas que els hi hagi, veurem si és o no necessari eliminar-los.\n",
    "\n"
   ]
  },
  {
   "cell_type": "code",
   "execution_count": null,
   "metadata": {
    "colab": {
     "base_uri": "https://localhost:8080/",
     "height": 472
    },
    "executionInfo": {
     "elapsed": 1263,
     "status": "ok",
     "timestamp": 1747817454259,
     "user": {
      "displayName": "Christian Bevilacqua",
      "userId": "08298056689231078299"
     },
     "user_tz": -120
    },
    "id": "6GyJo9cACblU",
    "outputId": "9baddf46-ef23-4055-b8ff-80fff1cc8d28"
   },
   "outputs": [
    {
     "data": {
      "image/png": "[encoded data removed]",
      "text/plain": [
       "<Figure size 640x480 with 1 Axes>"
      ]
     },
     "metadata": {},
     "output_type": "display_data"
    }
   ],
   "source": [
    "import seaborn as sns\n",
    "import matplotlib.pyplot as plt\n",
    "\n",
    "sns.boxplot(x=df_clean[\"Vots\"])\n",
    "plt.title(\"Boxplot de vots\")\n",
    "plt.show()\n"
   ]
  },
  {
   "cell_type": "markdown",
   "metadata": {
    "id": "UZOFheT91WkF"
   },
   "source": [
    "Com podem veure, no ens trobem cap valor extrem com podria ser el 999.999, així doncs, no cal eliminar cap valor."
   ]
  },
  {
   "cell_type": "markdown",
   "metadata": {
    "id": "CCM-Abqd2EDb"
   },
   "source": [
    "# Exercici 3.4\n",
    "\n",
    "En la meva opinió, les correccións addicionals que s'haurien de fer serien les següents:\n",
    "\n",
    "1.   Verificar si hi ha files duplicades i eliminar-les si és el cas.\n",
    "1.   Verificar que les URL dels enllaços són correctes.\n"
   ]
  },
  {
   "cell_type": "code",
   "execution_count": null,
   "metadata": {
    "id": "qzh1jtzH6_iq"
   },
   "outputs": [],
   "source": [
    "# Eliminar duplicats\n",
    "df_clean = df_clean.drop_duplicates()\n",
    "\n",
    "# Comprovar que les URL de la variable Enllaç comencen per https://www.reddit.com/.\n",
    "df_clean = df_clean[df_clean[\"Enllaç\\r\"].str.startswith(\"https://www.reddit.com/\")]"
   ]
  },
  {
   "cell_type": "markdown",
   "metadata": {
    "id": "DNQKnd1W7g1f"
   },
   "source": [
    "# 4. Anàlisi de les dades\n",
    "\n",
    "# Exercici 4.1\n",
    "\n",
    "*   **Model Supervisat:** Predir si una publicació té molts vots.\n",
    "\n",
    "Podem crear una variable binària que indiqui si una publicació ha tingut més o menys vots que la mitjana, i aplicar un model de classificació com per exemple \"Logistic Regression\":\n",
    "\n",
    "*   **Model No Supervisat:** Agrupació per subreddit i vots.\n",
    "\n",
    "Amb K-Means podem intentar agrupar les publicacions en funció del nombre de vots i una codificació del subreddit.\n",
    "\n",
    "A continuació implementaré els dos models per finalment poder comentar els resultats obtinguts:"
   ]
  },
  {
   "cell_type": "code",
   "execution_count": null,
   "metadata": {
    "colab": {
     "base_uri": "https://localhost:8080/"
    },
    "executionInfo": {
     "elapsed": 26,
     "status": "ok",
     "timestamp": 1747866451706,
     "user": {
      "displayName": "Christian Bevilacqua",
      "userId": "08298056689231078299"
     },
     "user_tz": -120
    },
    "id": "kanJDpNv8vMu",
    "outputId": "f3a13322-09fb-49b8-8b2d-02e09a197f06"
   },
   "outputs": [
    {
     "name": "stdout",
     "output_type": "stream",
     "text": [
      "Informe de classificació:\n",
      "               precision    recall  f1-score   support\n",
      "\n",
      "           0       0.44      1.00      0.62         4\n",
      "           1       0.00      0.00      0.00         5\n",
      "\n",
      "    accuracy                           0.44         9\n",
      "   macro avg       0.22      0.50      0.31         9\n",
      "weighted avg       0.20      0.44      0.27         9\n",
      "\n"
     ]
    },
    {
     "name": "stderr",
     "output_type": "stream",
     "text": [
      "/usr/local/lib/python3.11/dist-packages/sklearn/metrics/_classification.py:1565: UndefinedMetricWarning: Precision is ill-defined and being set to 0.0 in labels with no predicted samples. Use `zero_division` parameter to control this behavior.\n",
      "  _warn_prf(average, modifier, f\"{metric.capitalize()} is\", len(result))\n",
      "/usr/local/lib/python3.11/dist-packages/sklearn/metrics/_classification.py:1565: UndefinedMetricWarning: Precision is ill-defined and being set to 0.0 in labels with no predicted samples. Use `zero_division` parameter to control this behavior.\n",
      "  _warn_prf(average, modifier, f\"{metric.capitalize()} is\", len(result))\n",
      "/usr/local/lib/python3.11/dist-packages/sklearn/metrics/_classification.py:1565: UndefinedMetricWarning: Precision is ill-defined and being set to 0.0 in labels with no predicted samples. Use `zero_division` parameter to control this behavior.\n",
      "  _warn_prf(average, modifier, f\"{metric.capitalize()} is\", len(result))\n"
     ]
    }
   ],
   "source": [
    "# Model supervisat:\n",
    "import pandas as pd\n",
    "from sklearn.model_selection import train_test_split\n",
    "from sklearn.linear_model import LogisticRegression\n",
    "from sklearn.metrics import classification_report\n",
    "\n",
    "# Dataset carregat prèviament\n",
    "df['Vots'] = pd.to_numeric(df['Vots'], errors='coerce')\n",
    "df = df.dropna(subset=['Vots'])\n",
    "\n",
    "# Crear una variable binària (per sobre de la mitjana)\n",
    "threshold = df['Vots'].mean()\n",
    "df['AltaPopularitat'] = (df['Vots'] > threshold).astype(int)\n",
    "\n",
    "# Codificació de variables categòriques\n",
    "df_encoded = pd.get_dummies(df[['Subreddit', 'Autor']], drop_first=True)\n",
    "\n",
    "# Dades d'entrada i sortida\n",
    "X = df_encoded\n",
    "y = df['AltaPopularitat']\n",
    "\n",
    "# Separar entrenament i test\n",
    "X_train, X_test, y_train, y_test = train_test_split(X, y, test_size=0.3, random_state=42)\n",
    "\n",
    "# Entrenar model\n",
    "model = LogisticRegression(max_iter=1000)\n",
    "model.fit(X_train, y_train)\n",
    "\n",
    "# Resultats\n",
    "y_pred = model.predict(X_test)\n",
    "print(\"Informe de classificació:\\n\", classification_report(y_test, y_pred))\n"
   ]
  },
  {
   "cell_type": "markdown",
   "metadata": {
    "id": "UyZ_dYpr9hNv"
   },
   "source": [
    "El model supervisat de classificació logística no ha mostrat un rendiment satisfactori. Amb només 29 observacions i un nombre elevat de variables categòriques, el model no aconsegueix identificar correctament les publicacions amb alta popularitat. El fet que no hagi fet cap predicció per a la classe positiva evidencia problemes greus de desequilibri i sobreajustament. Per millorar el rendiment caldria probablement tenir una mostra més gran."
   ]
  },
  {
   "cell_type": "code",
   "execution_count": null,
   "metadata": {
    "colab": {
     "base_uri": "https://localhost:8080/",
     "height": 472
    },
    "executionInfo": {
     "elapsed": 1026,
     "status": "ok",
     "timestamp": 1747866526436,
     "user": {
      "displayName": "Christian Bevilacqua",
      "userId": "08298056689231078299"
     },
     "user_tz": -120
    },
    "id": "YEFHUB3t9iN8",
    "outputId": "b4c913a2-33e2-46b7-c87f-5948e661168d"
   },
   "outputs": [
    {
     "data": {
      "image/png": "[encoded data removed]",
      "text/plain": [
       "<Figure size 640x480 with 1 Axes>"
      ]
     },
     "metadata": {},
     "output_type": "display_data"
    }
   ],
   "source": [
    "# Model no supervisat:\n",
    "from sklearn.cluster import KMeans\n",
    "import matplotlib.pyplot as plt\n",
    "from sklearn.preprocessing import StandardScaler\n",
    "\n",
    "# Agrupació basada en vots i subreddit codificat\n",
    "df_cluster = df[['Vots', 'Subreddit']]\n",
    "df_cluster = df_cluster.dropna()\n",
    "\n",
    "# Codificació\n",
    "df_cluster_encoded = pd.get_dummies(df_cluster, columns=['Subreddit'], drop_first=True)\n",
    "\n",
    "# Escalat\n",
    "scaler = StandardScaler()\n",
    "X_scaled = scaler.fit_transform(df_cluster_encoded)\n",
    "\n",
    "# Model KMeans\n",
    "kmeans = KMeans(n_clusters=3, random_state=42)\n",
    "df['Cluster'] = kmeans.fit_predict(X_scaled)\n",
    "\n",
    "# Visualització bàsica (si només es volen veure agrupaments)\n",
    "plt.scatter(df['Vots'], df['Cluster'], c=df['Cluster'], cmap='viridis')\n",
    "plt.xlabel(\"Vots\")\n",
    "plt.ylabel(\"Grup (clúster)\")\n",
    "plt.title(\"Agrupació de publicacions segons vots i subreddit\")\n",
    "plt.show()"
   ]
  },
  {
   "cell_type": "markdown",
   "metadata": {
    "id": "RS5DZSWp_i6Y"
   },
   "source": [
    "En el model no supervisat s'ha aplicat K-Means amb 3 clústers, emprant com a variables els vots i el subreddit. El resultat mostra una agrupació clara basada en el nombre de vots, amb tres segments diferenciats: publicacions amb pocs vots, amb vots mitjans i amb vots molt elevats. Això indica que la variable “vots” té un pes decisiu en l’estructura de les dades. Tot i haver inclòs la informació del subreddit, sembla que no ha tingut un impacte rellevant en la formació dels clústers. Aquest resultat pot servir per caracteritzar millor els tipus de publicacions segons la seva popularitat."
   ]
  },
  {
   "cell_type": "markdown",
   "metadata": {
    "id": "EDlbq8jO_k03"
   },
   "source": [
    "# Exercici 4.2\n",
    "\n",
    "Hipòtesi: Les publicacions del subreddit més popular tenen més vots que la resta.\n",
    "\n",
    "Per comprobar aquesta hipòtesi, haurem de seguir els següents passos:\n",
    "\n",
    "*   Trobar el subreddit més popular.\n",
    "*   Fer un seguit de proves prèvies com ara separar en grups per popularitat, veure si hi ha normalitat o no, o veure la homogeneitat de variàncies.\n",
    "*   T-test (si normalitat OK) o Mann-Whitney (si no)"
   ]
  },
  {
   "cell_type": "code",
   "execution_count": null,
   "metadata": {
    "colab": {
     "base_uri": "https://localhost:8080/"
    },
    "executionInfo": {
     "elapsed": 53,
     "status": "ok",
     "timestamp": 1747867350717,
     "user": {
      "displayName": "Christian Bevilacqua",
      "userId": "08298056689231078299"
     },
     "user_tz": -120
    },
    "id": "Ki4jXJYLAhSc",
    "outputId": "80b06d92-c45e-4285-b37e-8644f3ce1409"
   },
   "outputs": [
    {
     "name": "stdout",
     "output_type": "stream",
     "text": [
      "Shapiro subreddit popular: ShapiroResult(statistic=np.float64(nan), pvalue=np.float64(nan))\n",
      "Shapiro resta: ShapiroResult(statistic=np.float64(0.9235362913209364), pvalue=np.float64(0.05445149803450322))\n",
      "Levene test: LeveneResult(statistic=np.float64(0.11024984000604816), pvalue=np.float64(0.7425218374104374))\n"
     ]
    },
    {
     "name": "stderr",
     "output_type": "stream",
     "text": [
      "<ipython-input-20-1e0734634b5a>:13: SmallSampleWarning: One or more sample arguments is too small; all returned values will be NaN. See documentation for sample size requirements.\n",
      "  print(\"Shapiro subreddit popular:\", shapiro(vots_popular))\n"
     ]
    }
   ],
   "source": [
    "# Trobar el subreddit més popular:\n",
    "subreddit_popular = df['Subreddit'].value_counts().idxmax()\n",
    "df['EsPopular'] = (df['Subreddit'] == subreddit_popular).astype(int)\n",
    "\n",
    "# Proves prèvies:\n",
    "from scipy.stats import shapiro, levene\n",
    "\n",
    "# Separació de grups\n",
    "vots_popular = df[df['EsPopular'] == 1]['Vots']\n",
    "vots_resta = df[df['EsPopular'] == 0]['Vots']\n",
    "\n",
    "# Normalitat\n",
    "print(\"Shapiro subreddit popular:\", shapiro(vots_popular))\n",
    "print(\"Shapiro resta:\", shapiro(vots_resta))\n",
    "\n",
    "# Homogeneïtat de variàncies\n",
    "print(\"Levene test:\", levene(vots_popular, vots_resta))"
   ]
  },
  {
   "cell_type": "markdown",
   "metadata": {
    "id": "RFvWzpHCBK4e"
   },
   "source": [
    "Com veiem, la mostra és massa petita, així doncs, ens decantarem per utilitzar una prova Mann-Whitney U ja que aquesta prova no assumeix normalitat i, a més, és adequada quan la mida de la mostra és petita, com en aquest cas."
   ]
  },
  {
   "cell_type": "code",
   "execution_count": null,
   "metadata": {
    "colab": {
     "base_uri": "https://localhost:8080/"
    },
    "executionInfo": {
     "elapsed": 14,
     "status": "ok",
     "timestamp": 1747867652321,
     "user": {
      "displayName": "Christian Bevilacqua",
      "userId": "08298056689231078299"
     },
     "user_tz": -120
    },
    "id": "4RRBppP_Bc4b",
    "outputId": "3fc6f15b-d90f-430a-da31-cc1fc9158b29"
   },
   "outputs": [
    {
     "name": "stdout",
     "output_type": "stream",
     "text": [
      "Mann-Whitney U Test:\n",
      "Estadístic: 33.0\n",
      "p-valor: 0.582010582010582\n"
     ]
    }
   ],
   "source": [
    "# Mann-Whitney U test:\n",
    "from scipy.stats import mannwhitneyu\n",
    "\n",
    "# vots_popular = vots del subreddit que vols comparar\n",
    "# vots_resta = vots dels altres subreddits\n",
    "\n",
    "stat, p = mannwhitneyu(vots_popular, vots_resta, alternative='two-sided')\n",
    "print(\"Mann-Whitney U Test:\")\n",
    "print(\"Estadístic:\", stat)\n",
    "print(\"p-valor:\", p)\n"
   ]
  },
  {
   "cell_type": "markdown",
   "metadata": {
    "id": "vOgybIJuBxL_"
   },
   "source": [
    "Com a comentari final, diré que s'ha aplicat la prova de Mann-Whitney U per comparar el nombre de vots entre les publicacions del subreddit popular i la resta de subreddits. El resultat (U = 33.0, p = 0.582) indica que no s’observa una diferència estadísticament significativa entre ambdós grups (amb un nivell de significació del 5%). Això suggereix que, en aquesta mostra, el subreddit no sembla influir significativament en la quantitat de vots rebuts per una publicació."
   ]
  },
  {
   "cell_type": "markdown",
   "metadata": {
    "id": "ldY8ShwVB_1u"
   },
   "source": [
    "# 5. Representació dels resultats:\n",
    "\n",
    "Tal i com s'especifica en l'enunciat, aquest apartat l'he anat desenvolupant al llarg de la pràctica, ja que desprès de cada prova o anàlisi realitzat, s'han mostrat els resultats obtinguts."
   ]
  },
  {
   "cell_type": "markdown",
   "metadata": {
    "id": "7r44RdZoCYLS"
   },
   "source": [
    "# 6. Resolució del problema:\n",
    "\n",
    "A partir de l'anàlisi de les 50 publicacions més populars de Reddit (r/popular), s'han aplicat diferents tècniques de tractament i anàlisi de dades amb l'objectiu de descobrir patrons i relacions entre variables com el nombre de vots, el subreddit, o l'autor de les publicacions.\n",
    "\n",
    "A partir de l'elaboració d'aquesta pràctica, les conclusions principals que puc extreure són les següents:\n",
    "\n",
    "1.   **Exploració inicial i visualització:**\n",
    "\n",
    "Les variables recollides (títol, subreddit, autor, vots i enllaç) mostren una gran variabilitat, especialment en el nombre de vots, amb valors que oscil·len entre menys de 1.000 i més de 50.000.\n",
    "\n",
    "No tots els subreddits tenen el mateix pes o impacte pel que fa a interaccions.\n",
    "\n",
    "2.   **Model supervisat (classificació):**\n",
    "\n",
    "El model aplicat (classificador binari) presenta un rendiment molt baix (precisió 0.44, f1-score 0.27), indicant que les dades disponibles no són suficients o prou representatives per predir correctament si una publicació tindrà molts o pocs vots.\n",
    "\n",
    "A més, el desbalanceig en la mida de la mostra afecta clarament la qualitat del model predictiu.\n",
    "\n",
    "3.   **Model no supervisat (clústers):**\n",
    "\n",
    "Amb k-means s’han identificat tres grups diferenciats de publicacions, segons el nombre de vots. Això indica que hi ha patrons que permeten agrupar les publicacions en funció de la seva popularitat, tot i que no necessàriament estan relacionats amb el subreddit.\n",
    "\n",
    "4.   **Contrast d'hipòtesis:**\n",
    "\n",
    "Després de comprovar la normalitat i homocedasticitat, s'ha aplicat la prova de Mann-Whitney U per contrastar si hi havia diferències significatives entre els vots de publicacions del subreddit més popular i la resta.\n",
    "\n",
    "El resultat (p = 0.582) mostra que no hi ha una diferència significativa, per tant, el subreddit per si sol no sembla condicionar el nombre de vots.\n",
    "\n",
    "**Responen els resultats al problema?**\n",
    "\n",
    "En certa forma, considero que sí, els resultats aporten una resposta parcial però informativa, extreient les següents conclusions:\n",
    "\n",
    "No s’ha pogut construir un model predictiu robust per anticipar la popularitat d’una publicació.\n",
    "\n",
    "Tanmateix, l’anàlisi ha permès identificar agrupacions i descartar que el subreddit sigui un factor determinant en el nombre de vots."
   ]
  },
  {
   "cell_type": "markdown",
   "metadata": {
    "id": "mTTBAYJRFIjN"
   },
   "source": [
    "# 7. Codi\n",
    "\n",
    "El codi utilitzat (en Python) durant tota aquesta pràctica s'ha anat adjuntant exercici rere exercici."
   ]
  },
  {
   "cell_type": "markdown",
   "metadata": {
    "id": "LxwK7l0qFUXO"
   },
   "source": [
    "# 8. Vídeo\n",
    "\n",
    "El vídeo explicatiu que exigeix la pràctica s'adjuntara juntament amb l'entrega d'aquest pdf. "
   ]
  },
  {
   "cell_type": "code",
   "execution_count": null,
   "metadata": {},
   "outputs": [],
   "source": []
  }
 ],
 "metadata": {
  "colab": {
   "authorship_tag": "ABX9TyMsqRIVX/LJArrBWO+H0uH6",
   "provenance": [],
   "toc_visible": true
  },
  "kernelspec": {
   "display_name": "Python 3 (ipykernel)",
   "language": "python",
   "name": "python3"
  },
  "language_info": {
   "codemirror_mode": {
    "name": "ipython",
    "version": 3
   },
   "file_extension": ".py",
   "mimetype": "text/x-python",
   "name": "python",
   "nbconvert_exporter": "python",
   "pygments_lexer": "ipython3",
   "version": "3.9.20"
  }
 },
 "nbformat": 4,
 "nbformat_minor": 4
}
